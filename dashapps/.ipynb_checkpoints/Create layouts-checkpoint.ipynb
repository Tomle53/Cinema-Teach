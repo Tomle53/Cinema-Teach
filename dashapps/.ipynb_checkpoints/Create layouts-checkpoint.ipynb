{
 "cells": [
  {
   "cell_type": "code",
   "execution_count": 1,
   "id": "9a1c7e01-5721-4c6b-95a3-57ae18af12ba",
   "metadata": {},
   "outputs": [],
   "source": [
    "from dash import Dash, html, dcc, callback, Output, Input\n",
    "import plotly.express as px\n",
    "import pandas as pd\n",
    "import dash_bootstrap_components as dbc"
   ]
  },
  {
   "cell_type": "code",
   "execution_count": 19,
   "id": "a4ff4bc1-1e64-43aa-bc5a-f801d5fcb76a",
   "metadata": {},
   "outputs": [],
   "source": [
    "header = dbc.Nav([\n",
    "    html.Button(className=\"navbar-toggler navbar-toggler-right border-0\"),\n",
    "    dbc.Row([\n",
    "        dbc.Col([\n",
    "            html.A(\n",
    "            children = [\n",
    "                html.I(className=\"fa d-inline fa-lg fa-stop-circle-o\"),\n",
    "                html.B(\"Cinemat'Teach\")\n",
    "            ], className=\"navbar-brand d-none d-md-block\", style={'color': \"white\"}),\n",
    "        ], width = 3),\n",
    "        dbc.Col([\n",
    "            html.Nav([\n",
    "                dbc.NavItem(dbc.NavLink(\"Acceuil\", active=True, href=\"#\")),\n",
    "                dbc.NavItem(dbc.NavLink(\"Modules\", active=False, href=\"#\")),\n",
    "                dbc.NavItem(dbc.NavLink(\"Dashboard\", active=False, href=\"#\"))  \n",
    "            ],className=\"navbar-nav\")\n",
    "            \n",
    "        ], width = 4),\n",
    "        dbc.Col([\n",
    "            dbc.NavItem(dbc.NavLink(html.I(className=\"fa fa-user\"), active=True, href=\"#\")),\n",
    "        ], width = 1)\n",
    "    ],justify=\"between\", style={\"width\":\"100%\"})\n",
    "], className=\"navbar navbar-expand-md navbar-dark bg-primary\")"
   ]
  },
  {
   "cell_type": "code",
   "execution_count": 22,
   "id": "662d6659-a052-42ac-be25-ab07a48af5d8",
   "metadata": {},
   "outputs": [],
   "source": [
    "title = html.Div([\n",
    "    dbc.Row([\n",
    "        dbc.Col([html.H1(\"Cinématique du point\", className=\"pt-3\")], md=6),\n",
    "        dbc.Col([], md=6, justify=\"center\")\n",
    "    ])\n",
    "], className = \"container\")"
   ]
  },
  {
   "cell_type": "code",
   "execution_count": 23,
   "id": "c5f3c44d-7367-475e-aa10-3ae2cb86ce70",
   "metadata": {},
   "outputs": [
    {
     "data": {
      "text/html": [
       "\n",
       "        <iframe\n",
       "            width=\"100%\"\n",
       "            height=\"650\"\n",
       "            src=\"http://127.0.0.1:8050/\"\n",
       "            frameborder=\"0\"\n",
       "            allowfullscreen\n",
       "            \n",
       "        ></iframe>\n",
       "        "
      ],
      "text/plain": [
       "<IPython.lib.display.IFrame at 0x7f295abc8f40>"
      ]
     },
     "metadata": {},
     "output_type": "display_data"
    }
   ],
   "source": [
    "external_stylesheets = [\n",
    "    {\n",
    "        'href':'index.scss',\n",
    "        'rel': 'stylesheet'\n",
    "    },\n",
    "    {\n",
    "        'href':'index.css',\n",
    "        'rel': 'stylesheet'\n",
    "    }\n",
    "]\n",
    "\n",
    "app = Dash(__name__, external_stylesheets=[dbc.themes.BOOTSTRAP, dbc.icons.FONT_AWESOME])\n",
    "\n",
    "app.layout = html.Div([\n",
    "    header,\n",
    "    title\n",
    "])\n",
    "\n",
    "\n",
    "if __name__ == '__main__':\n",
    "    app.run(debug=True)"
   ]
  },
  {
   "cell_type": "code",
   "execution_count": null,
   "id": "970e99ec-20b8-44f6-8b56-50f1fb40db2c",
   "metadata": {},
   "outputs": [],
   "source": []
  },
  {
   "cell_type": "code",
   "execution_count": null,
   "id": "1cad1442-a5cf-4297-992c-dc02bce4c8d5",
   "metadata": {},
   "outputs": [],
   "source": []
  }
 ],
 "metadata": {
  "kernelspec": {
   "display_name": "Python 3 (ipykernel)",
   "language": "python",
   "name": "python3"
  },
  "language_info": {
   "codemirror_mode": {
    "name": "ipython",
    "version": 3
   },
   "file_extension": ".py",
   "mimetype": "text/x-python",
   "name": "python",
   "nbconvert_exporter": "python",
   "pygments_lexer": "ipython3",
   "version": "3.10.13"
  }
 },
 "nbformat": 4,
 "nbformat_minor": 5
}
